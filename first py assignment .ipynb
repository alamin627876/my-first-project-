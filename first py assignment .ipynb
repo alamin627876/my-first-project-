{
 "cells": [
  {
   "cell_type": "code",
   "execution_count": 1,
   "id": "3293e65e",
   "metadata": {},
   "outputs": [
    {
     "name": "stdout",
     "output_type": "stream",
     "text": [
      "enter your first value :60\n",
      "enter your second value :20\n",
      "sum = enter your first value : 60.0 and enter your second value : 20.0 and your Result = 80.0\n"
     ]
    }
   ],
   "source": [
    "value1 =float(input(\"enter your first value :\"))\n",
    "value2 =float(input(\"enter your second value :\"))\n",
    "Result1=value1+value2\n",
    "print(f\"sum = enter your first value : {value1} and enter your second value : {value2} and your Result = {Result1}\")"
   ]
  },
  {
   "cell_type": "code",
   "execution_count": 2,
   "id": "663fa911",
   "metadata": {},
   "outputs": [
    {
     "name": "stdout",
     "output_type": "stream",
     "text": [
      "sub = enter your first value : 60.0 and enter your second value : 20.0 and your Result = 40.0\n"
     ]
    }
   ],
   "source": [
    "Result2=value1-value2\n",
    "print(f\"sub = enter your first value : {value1} and enter your second value : {value2} and your Result = {Result2}\")"
   ]
  },
  {
   "cell_type": "code",
   "execution_count": 3,
   "id": "7fe2b242",
   "metadata": {},
   "outputs": [
    {
     "name": "stdout",
     "output_type": "stream",
     "text": [
      " div = enter your first value : 60.0 and enter your second value : 20.0 and your Result = 3.0\n"
     ]
    }
   ],
   "source": [
    "Result3=value1/value2\n",
    "print(f\" div = enter your first value : {value1} and enter your second value : {value2} and your Result = {Result3}\")"
   ]
  },
  {
   "cell_type": "code",
   "execution_count": 4,
   "id": "ae4d0c4e",
   "metadata": {},
   "outputs": [
    {
     "name": "stdout",
     "output_type": "stream",
     "text": [
      " mul = enter your first value : 60.0 and enter your second value : 20.0 and your Result = 1200.0\n"
     ]
    }
   ],
   "source": [
    "Result4=value1*value2\n",
    "print(f\" mul = enter your first value : {value1} and enter your second value : {value2} and your Result = {Result4}\")"
   ]
  }
 ],
 "metadata": {
  "kernelspec": {
   "display_name": "Python 3 (ipykernel)",
   "language": "python",
   "name": "python3"
  },
  "language_info": {
   "codemirror_mode": {
    "name": "ipython",
    "version": 3
   },
   "file_extension": ".py",
   "mimetype": "text/x-python",
   "name": "python",
   "nbconvert_exporter": "python",
   "pygments_lexer": "ipython3",
   "version": "3.11.5"
  }
 },
 "nbformat": 4,
 "nbformat_minor": 5
}
